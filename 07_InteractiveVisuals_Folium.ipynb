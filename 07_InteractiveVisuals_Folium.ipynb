{
  "cells": [
    {
      "cell_type": "markdown",
      "metadata": {},
      "source": [
        "# **Hands-on Lab: Interactive Visual Analytics with Folium**\n"
      ]
    },
    {
      "cell_type": "markdown",
      "metadata": {},
      "source": [
        "## Objectives\n"
      ]
    },
    {
      "cell_type": "markdown",
      "metadata": {},
      "source": [
        "This lab contains the following tasks:\n",
        "\n",
        "*   **TASK 1:** Mark all launch sites on a map\n",
        "*   **TASK 2:** Mark the success/failed launches for each site on the map\n",
        "*   **TASK 3:** Calculate the distances between a launch site to its proximities\n",
        "\n",
        "After completed the above tasks, you should be able to find some geographical patterns about launch sites.\n"
      ]
    },
    {
      "cell_type": "markdown",
      "metadata": {},
      "source": [
        "Let's first import required Python packages for this lab:\n"
      ]
    },
    {
      "cell_type": "code",
      "execution_count": 2,
      "metadata": {
        "trusted": true
      },
      "outputs": [],
      "source": [
        "import piplite\n",
        "await piplite.install(['folium'])\n",
        "await piplite.install(['pandas'])"
      ]
    },
    {
      "cell_type": "code",
      "execution_count": 3,
      "metadata": {
        "trusted": true
      },
      "outputs": [],
      "source": [
        "import folium\n",
        "import pandas as pd"
      ]
    },
    {
      "cell_type": "code",
      "execution_count": 4,
      "metadata": {
        "trusted": true
      },
      "outputs": [],
      "source": [
        "# Import folium MarkerCluster plugin\n",
        "from folium.plugins import MarkerCluster\n",
        "# Import folium MousePosition plugin\n",
        "from folium.plugins import MousePosition\n",
        "# Import folium DivIcon plugin\n",
        "from folium.features import DivIcon"
      ]
    },
    {
      "cell_type": "markdown",
      "metadata": {},
      "source": [
        "If you need to refresh your memory about folium, you may download and refer to this previous folium lab:\n"
      ]
    },
    {
      "cell_type": "markdown",
      "metadata": {},
      "source": [
        "[Generating Maps with Python](https://cf-courses-data.s3.us.cloud-object-storage.appdomain.cloud/IBMDeveloperSkillsNetwork-DV0101EN-SkillsNetwork/labs/v4/DV0101EN-Exercise-Generating-Maps-in-Python.ipynb)\n"
      ]
    },
    {
      "cell_type": "code",
      "execution_count": 5,
      "metadata": {
        "trusted": true
      },
      "outputs": [
        {
          "ename": "<class 'NameError'>",
          "evalue": "name 'spacex_df' is not defined",
          "output_type": "error",
          "traceback": [
            "\u001b[0;31m---------------------------------------------------------------------------\u001b[0m",
            "\u001b[0;31mNameError\u001b[0m                                 Traceback (most recent call last)",
            "Cell \u001b[0;32mIn[5], line 2\u001b[0m\n\u001b[1;32m      1\u001b[0m \u001b[38;5;66;03m## Task 1: Mark all launch sites on a map\u001b[39;00m\n\u001b[0;32m----> 2\u001b[0m Launch_Site_Map \u001b[38;5;241m=\u001b[39m folium\u001b[38;5;241m.\u001b[39mMap(location\u001b[38;5;241m=\u001b[39m\u001b[43mspacex_df\u001b[49m[[Lat, Long]], zoom_start\u001b[38;5;241m=\u001b[39m\u001b[38;5;241m12\u001b[39m)\n",
            "\u001b[0;31mNameError\u001b[0m: name 'spacex_df' is not defined"
          ]
        }
      ],
      "source": [
        "## Task 1: Mark all launch sites on a map\n",
        "Launch_Site_Map = folium.Map(location=spacex_df[[Lat, Long]], zoom_start=12)\n"
      ]
    },
    {
      "cell_type": "markdown",
      "metadata": {},
      "source": [
        "First, let's try to add each site's location on a map using site's latitude and longitude coordinates\n"
      ]
    },
    {
      "cell_type": "markdown",
      "metadata": {},
      "source": [
        "The following dataset with the name `spacex_launch_geo.csv` is an augmented dataset with latitude and longitude added for each site.\n"
      ]
    },
    {
      "cell_type": "code",
      "execution_count": 6,
      "metadata": {
        "trusted": true
      },
      "outputs": [],
      "source": [
        "# Download and read the `spacex_launch_geo.csv`\n",
        "from js import fetch\n",
        "import io\n",
        "\n",
        "URL = 'https://cf-courses-data.s3.us.cloud-object-storage.appdomain.cloud/IBM-DS0321EN-SkillsNetwork/datasets/spacex_launch_geo.csv'\n",
        "resp = await fetch(URL)\n",
        "spacex_csv_file = io.BytesIO((await resp.arrayBuffer()).to_py())\n",
        "spacex_df=pd.read_csv(spacex_csv_file)"
      ]
    },
    {
      "cell_type": "markdown",
      "metadata": {},
      "source": [
        "Now, you can take a look at what are the coordinates for each site.\n"
      ]
    },
    {
      "cell_type": "code",
      "execution_count": 7,
      "metadata": {
        "trusted": true
      },
      "outputs": [
        {
          "data": {
            "text/html": [
              "<div>\n",
              "<style scoped>\n",
              "    .dataframe tbody tr th:only-of-type {\n",
              "        vertical-align: middle;\n",
              "    }\n",
              "\n",
              "    .dataframe tbody tr th {\n",
              "        vertical-align: top;\n",
              "    }\n",
              "\n",
              "    .dataframe thead th {\n",
              "        text-align: right;\n",
              "    }\n",
              "</style>\n",
              "<table border=\"1\" class=\"dataframe\">\n",
              "  <thead>\n",
              "    <tr style=\"text-align: right;\">\n",
              "      <th></th>\n",
              "      <th>Launch Site</th>\n",
              "      <th>Lat</th>\n",
              "      <th>Long</th>\n",
              "    </tr>\n",
              "  </thead>\n",
              "  <tbody>\n",
              "    <tr>\n",
              "      <th>0</th>\n",
              "      <td>CCAFS LC-40</td>\n",
              "      <td>28.562302</td>\n",
              "      <td>-80.577356</td>\n",
              "    </tr>\n",
              "    <tr>\n",
              "      <th>1</th>\n",
              "      <td>CCAFS SLC-40</td>\n",
              "      <td>28.563197</td>\n",
              "      <td>-80.576820</td>\n",
              "    </tr>\n",
              "    <tr>\n",
              "      <th>2</th>\n",
              "      <td>KSC LC-39A</td>\n",
              "      <td>28.573255</td>\n",
              "      <td>-80.646895</td>\n",
              "    </tr>\n",
              "    <tr>\n",
              "      <th>3</th>\n",
              "      <td>VAFB SLC-4E</td>\n",
              "      <td>34.632834</td>\n",
              "      <td>-120.610745</td>\n",
              "    </tr>\n",
              "  </tbody>\n",
              "</table>\n",
              "</div>"
            ],
            "text/plain": [
              "    Launch Site        Lat        Long\n",
              "0   CCAFS LC-40  28.562302  -80.577356\n",
              "1  CCAFS SLC-40  28.563197  -80.576820\n",
              "2    KSC LC-39A  28.573255  -80.646895\n",
              "3   VAFB SLC-4E  34.632834 -120.610745"
            ]
          },
          "execution_count": 7,
          "metadata": {},
          "output_type": "execute_result"
        }
      ],
      "source": [
        "# Select relevant sub-columns: `Launch Site`, `Lat(Latitude)`, `Long(Longitude)`, `class`\n",
        "spacex_df = spacex_df[['Launch Site', 'Lat', 'Long', 'class']]\n",
        "launch_sites_df = spacex_df.groupby(['Launch Site'], as_index=False).first()\n",
        "launch_sites_df = launch_sites_df[['Launch Site', 'Lat', 'Long']]\n",
        "launch_sites_df"
      ]
    },
    {
      "cell_type": "markdown",
      "metadata": {},
      "source": [
        "Above coordinates are just plain numbers that can not give you any intuitive insights about where are those launch sites. If you are very good at geography, you can interpret those numbers directly in your mind. If not, that's fine too. Let's visualize those locations by pinning them on a map.\n"
      ]
    },
    {
      "cell_type": "markdown",
      "metadata": {},
      "source": [
        "We first need to create a folium `Map` object, with an initial center location to be NASA Johnson Space Center at Houston, Texas.\n"
      ]
    },
    {
      "cell_type": "code",
      "execution_count": 8,
      "metadata": {
        "trusted": true
      },
      "outputs": [],
      "source": [
        "# Start location is NASA Johnson Space Center\n",
        "nasa_coordinate = [29.559684888503615, -95.0830971930759]\n",
        "site_map = folium.Map(location=nasa_coordinate, zoom_start=10)"
      ]
    },
    {
      "cell_type": "markdown",
      "metadata": {},
      "source": [
        "We could use `folium.Circle` to add a highlighted circle area with a text label on a specific coordinate. For example,\n"
      ]
    },
    {
      "cell_type": "code",
      "execution_count": 9,
      "metadata": {
        "trusted": true
      },
      "outputs": [
        {
          "data": {
            "text/html": [
              "<div style=\"width:100%;\"><div style=\"position:relative;width:100%;height:0;padding-bottom:60%;\"><span style=\"color:#565656\">Make this Notebook Trusted to load map: File -> Trust Notebook</span><iframe srcdoc=\"&lt;!DOCTYPE html&gt;\n",
              "&lt;html&gt;\n",
              "&lt;head&gt;\n",
              "    \n",
              "    &lt;meta http-equiv=&quot;content-type&quot; content=&quot;text/html; charset=UTF-8&quot; /&gt;\n",
              "    \n",
              "        &lt;script&gt;\n",
              "            L_NO_TOUCH = false;\n",
              "            L_DISABLE_3D = false;\n",
              "        &lt;/script&gt;\n",
              "    \n",
              "    &lt;style&gt;html, body {width: 100%;height: 100%;margin: 0;padding: 0;}&lt;/style&gt;\n",
              "    &lt;style&gt;#map {position:absolute;top:0;bottom:0;right:0;left:0;}&lt;/style&gt;\n",
              "    &lt;script src=&quot;https://cdn.jsdelivr.net/npm/leaflet@1.9.3/dist/leaflet.js&quot;&gt;&lt;/script&gt;\n",
              "    &lt;script src=&quot;https://code.jquery.com/jquery-3.7.1.min.js&quot;&gt;&lt;/script&gt;\n",
              "    &lt;script src=&quot;https://cdn.jsdelivr.net/npm/bootstrap@5.2.2/dist/js/bootstrap.bundle.min.js&quot;&gt;&lt;/script&gt;\n",
              "    &lt;script src=&quot;https://cdnjs.cloudflare.com/ajax/libs/Leaflet.awesome-markers/2.0.2/leaflet.awesome-markers.js&quot;&gt;&lt;/script&gt;\n",
              "    &lt;link rel=&quot;stylesheet&quot; href=&quot;https://cdn.jsdelivr.net/npm/leaflet@1.9.3/dist/leaflet.css&quot;/&gt;\n",
              "    &lt;link rel=&quot;stylesheet&quot; href=&quot;https://cdn.jsdelivr.net/npm/bootstrap@5.2.2/dist/css/bootstrap.min.css&quot;/&gt;\n",
              "    &lt;link rel=&quot;stylesheet&quot; href=&quot;https://netdna.bootstrapcdn.com/bootstrap/3.0.0/css/bootstrap-glyphicons.css&quot;/&gt;\n",
              "    &lt;link rel=&quot;stylesheet&quot; href=&quot;https://cdn.jsdelivr.net/npm/@fortawesome/fontawesome-free@6.2.0/css/all.min.css&quot;/&gt;\n",
              "    &lt;link rel=&quot;stylesheet&quot; href=&quot;https://cdnjs.cloudflare.com/ajax/libs/Leaflet.awesome-markers/2.0.2/leaflet.awesome-markers.css&quot;/&gt;\n",
              "    &lt;link rel=&quot;stylesheet&quot; href=&quot;https://cdn.jsdelivr.net/gh/python-visualization/folium/folium/templates/leaflet.awesome.rotate.min.css&quot;/&gt;\n",
              "    \n",
              "            &lt;meta name=&quot;viewport&quot; content=&quot;width=device-width,\n",
              "                initial-scale=1.0, maximum-scale=1.0, user-scalable=no&quot; /&gt;\n",
              "            &lt;style&gt;\n",
              "                #map_7c5899ec5ddef10b3959ae941bc10b0b {\n",
              "                    position: relative;\n",
              "                    width: 100.0%;\n",
              "                    height: 100.0%;\n",
              "                    left: 0.0%;\n",
              "                    top: 0.0%;\n",
              "                }\n",
              "                .leaflet-container { font-size: 1rem; }\n",
              "            &lt;/style&gt;\n",
              "        \n",
              "&lt;/head&gt;\n",
              "&lt;body&gt;\n",
              "    \n",
              "    \n",
              "            &lt;div class=&quot;folium-map&quot; id=&quot;map_7c5899ec5ddef10b3959ae941bc10b0b&quot; &gt;&lt;/div&gt;\n",
              "        \n",
              "&lt;/body&gt;\n",
              "&lt;script&gt;\n",
              "    \n",
              "    \n",
              "            var map_7c5899ec5ddef10b3959ae941bc10b0b = L.map(\n",
              "                &quot;map_7c5899ec5ddef10b3959ae941bc10b0b&quot;,\n",
              "                {\n",
              "                    center: [29.559684888503615, -95.0830971930759],\n",
              "                    crs: L.CRS.EPSG3857,\n",
              "                    ...{\n",
              "  &quot;zoom&quot;: 10,\n",
              "  &quot;zoomControl&quot;: true,\n",
              "  &quot;preferCanvas&quot;: false,\n",
              "}\n",
              "\n",
              "                }\n",
              "            );\n",
              "\n",
              "            \n",
              "\n",
              "        \n",
              "    \n",
              "            var tile_layer_8bf5898ed94466c490792f15f7ce6084 = L.tileLayer(\n",
              "                &quot;https://tile.openstreetmap.org/{z}/{x}/{y}.png&quot;,\n",
              "                {\n",
              "  &quot;minZoom&quot;: 0,\n",
              "  &quot;maxZoom&quot;: 19,\n",
              "  &quot;maxNativeZoom&quot;: 19,\n",
              "  &quot;noWrap&quot;: false,\n",
              "  &quot;attribution&quot;: &quot;\\u0026copy; \\u003ca href=\\&quot;https://www.openstreetmap.org/copyright\\&quot;\\u003eOpenStreetMap\\u003c/a\\u003e contributors&quot;,\n",
              "  &quot;subdomains&quot;: &quot;abc&quot;,\n",
              "  &quot;detectRetina&quot;: false,\n",
              "  &quot;tms&quot;: false,\n",
              "  &quot;opacity&quot;: 1,\n",
              "}\n",
              "\n",
              "            );\n",
              "        \n",
              "    \n",
              "            tile_layer_8bf5898ed94466c490792f15f7ce6084.addTo(map_7c5899ec5ddef10b3959ae941bc10b0b);\n",
              "        \n",
              "    \n",
              "            var circle_0ac33f9f960a37f9b19a41f92c2bf31d = L.circle(\n",
              "                [29.559684888503615, -95.0830971930759],\n",
              "                {&quot;bubblingMouseEvents&quot;: true, &quot;color&quot;: &quot;#d35400&quot;, &quot;dashArray&quot;: null, &quot;dashOffset&quot;: null, &quot;fill&quot;: true, &quot;fillColor&quot;: &quot;#d35400&quot;, &quot;fillOpacity&quot;: 0.2, &quot;fillRule&quot;: &quot;evenodd&quot;, &quot;lineCap&quot;: &quot;round&quot;, &quot;lineJoin&quot;: &quot;round&quot;, &quot;opacity&quot;: 1.0, &quot;radius&quot;: 1000, &quot;stroke&quot;: true, &quot;weight&quot;: 3}\n",
              "            ).addTo(map_7c5899ec5ddef10b3959ae941bc10b0b);\n",
              "        \n",
              "    \n",
              "        var popup_c79cbbdf46b7d4146aad865652296aa2 = L.popup({\n",
              "  &quot;maxWidth&quot;: &quot;100%&quot;,\n",
              "});\n",
              "\n",
              "        \n",
              "            \n",
              "                var html_9d218c0ccb4a9b49a982644d7a216478 = $(`&lt;div id=&quot;html_9d218c0ccb4a9b49a982644d7a216478&quot; style=&quot;width: 100.0%; height: 100.0%;&quot;&gt;NASA Johnson Space Center&lt;/div&gt;`)[0];\n",
              "                popup_c79cbbdf46b7d4146aad865652296aa2.setContent(html_9d218c0ccb4a9b49a982644d7a216478);\n",
              "            \n",
              "        \n",
              "\n",
              "        circle_0ac33f9f960a37f9b19a41f92c2bf31d.bindPopup(popup_c79cbbdf46b7d4146aad865652296aa2)\n",
              "        ;\n",
              "\n",
              "        \n",
              "    \n",
              "    \n",
              "            var marker_4d77b2e0002c323e1955602a0ade7608 = L.marker(\n",
              "                [29.559684888503615, -95.0830971930759],\n",
              "                {\n",
              "}\n",
              "            ).addTo(map_7c5899ec5ddef10b3959ae941bc10b0b);\n",
              "        \n",
              "    \n",
              "            var div_icon_735b1aae01f10b8cefbade2aade6f8ce = L.divIcon({\n",
              "  &quot;html&quot;: &quot;\\u003cdiv style=\\&quot;font-size: 12; color:#d35400;\\&quot;\\u003e\\u003cb\\u003eNASA JSC\\u003c/b\\u003e\\u003c/div\\u003e&quot;,\n",
              "  &quot;iconSize&quot;: [20, 20],\n",
              "  &quot;iconAnchor&quot;: [0, 0],\n",
              "  &quot;className&quot;: &quot;empty&quot;,\n",
              "});\n",
              "            marker_4d77b2e0002c323e1955602a0ade7608.setIcon(div_icon_735b1aae01f10b8cefbade2aade6f8ce);\n",
              "        \n",
              "&lt;/script&gt;\n",
              "&lt;/html&gt;\" style=\"position:absolute;width:100%;height:100%;left:0;top:0;border:none !important;\" allowfullscreen webkitallowfullscreen mozallowfullscreen></iframe></div></div>"
            ],
            "text/plain": [
              "<folium.folium.Map at 0x24868b0>"
            ]
          },
          "execution_count": 9,
          "metadata": {},
          "output_type": "execute_result"
        }
      ],
      "source": [
        "# Create a blue circle at NASA Johnson Space Center's coordinate with a popup label showing its name\n",
        "circle = folium.Circle(nasa_coordinate, radius=1000, color='#d35400', fill=True).add_child(folium.Popup('NASA Johnson Space Center'))\n",
        "# Create a blue circle at NASA Johnson Space Center's coordinate with a icon showing its name\n",
        "marker = folium.map.Marker(\n",
        "    nasa_coordinate,\n",
        "    # Create an icon as a text label\n",
        "    icon=DivIcon(\n",
        "        icon_size=(20,20),\n",
        "        icon_anchor=(0,0),\n",
        "        html='<div style=\"font-size: 12; color:#d35400;\"><b>%s</b></div>' % 'NASA JSC',\n",
        "        )\n",
        "    )\n",
        "site_map.add_child(circle)\n",
        "site_map.add_child(marker)"
      ]
    },
    {
      "cell_type": "markdown",
      "metadata": {},
      "source": [
        "and you should find a small yellow circle near the city of Houston and you can zoom-in to see a larger circle.\n"
      ]
    },
    {
      "cell_type": "markdown",
      "metadata": {},
      "source": [
        "Now, let's add a circle for each launch site in data frame `launch_sites`\n"
      ]
    },
    {
      "cell_type": "markdown",
      "metadata": {},
      "source": [
        "*TODO:*  Create and add `folium.Circle` and `folium.Marker` for each launch site on the site map\n"
      ]
    },
    {
      "cell_type": "markdown",
      "metadata": {},
      "source": [
        "An example of folium.Circle:\n"
      ]
    },
    {
      "cell_type": "markdown",
      "metadata": {},
      "source": [
        "`folium.Circle(coordinate, radius=1000, color='#000000', fill=True).add_child(folium.Popup(...))`\n"
      ]
    },
    {
      "cell_type": "markdown",
      "metadata": {},
      "source": [
        "An example of folium.Marker:\n"
      ]
    },
    {
      "cell_type": "markdown",
      "metadata": {},
      "source": [
        "`folium.map.Marker(coordinate, icon=DivIcon(icon_size=(20,20),icon_anchor=(0,0), html='<div style=\"font-size: 12; color:#d35400;\"><b>%s</b></div>' % 'label', ))`\n"
      ]
    },
    {
      "cell_type": "code",
      "execution_count": 10,
      "metadata": {
        "trusted": true
      },
      "outputs": [],
      "source": [
        "# Initial the map\n",
        "site_map = folium.Map(location=nasa_coordinate, zoom_start=5)\n",
        "# For each launch site, add a Circle object based on its coordinate (Lat, Long) values. In addition, add Launch site name as a popup label\n"
      ]
    },
    {
      "cell_type": "markdown",
      "metadata": {},
      "source": [
        "The generated map with marked launch sites should look similar to the following:\n"
      ]
    },
    {
      "cell_type": "markdown",
      "metadata": {},
      "source": [
        "<center>\n",
        "    <img src=\"https://cf-courses-data.s3.us.cloud-object-storage.appdomain.cloud/IBM-DS0321EN-SkillsNetwork/labs/module_3/images/launch_site_markers.png\">\n",
        "</center>\n"
      ]
    },
    {
      "cell_type": "markdown",
      "metadata": {},
      "source": [
        "Now, you can explore the map by zoom-in/out the marked areas\n",
        ", and try to answer the following questions:\n",
        "\n",
        "*   Are all launch sites in proximity to the Equator line?\n",
        "*   Are all launch sites in very close proximity to the coast?\n",
        "\n",
        "Also please try to explain your findings.\n"
      ]
    },
    {
      "cell_type": "code",
      "execution_count": 11,
      "metadata": {
        "trusted": true
      },
      "outputs": [],
      "source": [
        "# Task 2: Mark the success/failed launches for each site on the map\n"
      ]
    },
    {
      "cell_type": "markdown",
      "metadata": {},
      "source": [
        "Next, let's try to enhance the map by adding the launch outcomes for each site, and see which sites have high success rates.\n",
        "Recall that data frame spacex_df has detailed launch records, and the `class` column indicates if this launch was successful or not\n"
      ]
    },
    {
      "cell_type": "code",
      "execution_count": 12,
      "metadata": {
        "trusted": true
      },
      "outputs": [
        {
          "data": {
            "text/html": [
              "<div>\n",
              "<style scoped>\n",
              "    .dataframe tbody tr th:only-of-type {\n",
              "        vertical-align: middle;\n",
              "    }\n",
              "\n",
              "    .dataframe tbody tr th {\n",
              "        vertical-align: top;\n",
              "    }\n",
              "\n",
              "    .dataframe thead th {\n",
              "        text-align: right;\n",
              "    }\n",
              "</style>\n",
              "<table border=\"1\" class=\"dataframe\">\n",
              "  <thead>\n",
              "    <tr style=\"text-align: right;\">\n",
              "      <th></th>\n",
              "      <th>Launch Site</th>\n",
              "      <th>Lat</th>\n",
              "      <th>Long</th>\n",
              "      <th>class</th>\n",
              "    </tr>\n",
              "  </thead>\n",
              "  <tbody>\n",
              "    <tr>\n",
              "      <th>46</th>\n",
              "      <td>KSC LC-39A</td>\n",
              "      <td>28.573255</td>\n",
              "      <td>-80.646895</td>\n",
              "      <td>1</td>\n",
              "    </tr>\n",
              "    <tr>\n",
              "      <th>47</th>\n",
              "      <td>KSC LC-39A</td>\n",
              "      <td>28.573255</td>\n",
              "      <td>-80.646895</td>\n",
              "      <td>1</td>\n",
              "    </tr>\n",
              "    <tr>\n",
              "      <th>48</th>\n",
              "      <td>KSC LC-39A</td>\n",
              "      <td>28.573255</td>\n",
              "      <td>-80.646895</td>\n",
              "      <td>1</td>\n",
              "    </tr>\n",
              "    <tr>\n",
              "      <th>49</th>\n",
              "      <td>CCAFS SLC-40</td>\n",
              "      <td>28.563197</td>\n",
              "      <td>-80.576820</td>\n",
              "      <td>1</td>\n",
              "    </tr>\n",
              "    <tr>\n",
              "      <th>50</th>\n",
              "      <td>CCAFS SLC-40</td>\n",
              "      <td>28.563197</td>\n",
              "      <td>-80.576820</td>\n",
              "      <td>1</td>\n",
              "    </tr>\n",
              "    <tr>\n",
              "      <th>51</th>\n",
              "      <td>CCAFS SLC-40</td>\n",
              "      <td>28.563197</td>\n",
              "      <td>-80.576820</td>\n",
              "      <td>0</td>\n",
              "    </tr>\n",
              "    <tr>\n",
              "      <th>52</th>\n",
              "      <td>CCAFS SLC-40</td>\n",
              "      <td>28.563197</td>\n",
              "      <td>-80.576820</td>\n",
              "      <td>0</td>\n",
              "    </tr>\n",
              "    <tr>\n",
              "      <th>53</th>\n",
              "      <td>CCAFS SLC-40</td>\n",
              "      <td>28.563197</td>\n",
              "      <td>-80.576820</td>\n",
              "      <td>0</td>\n",
              "    </tr>\n",
              "    <tr>\n",
              "      <th>54</th>\n",
              "      <td>CCAFS SLC-40</td>\n",
              "      <td>28.563197</td>\n",
              "      <td>-80.576820</td>\n",
              "      <td>1</td>\n",
              "    </tr>\n",
              "    <tr>\n",
              "      <th>55</th>\n",
              "      <td>CCAFS SLC-40</td>\n",
              "      <td>28.563197</td>\n",
              "      <td>-80.576820</td>\n",
              "      <td>0</td>\n",
              "    </tr>\n",
              "  </tbody>\n",
              "</table>\n",
              "</div>"
            ],
            "text/plain": [
              "     Launch Site        Lat       Long  class\n",
              "46    KSC LC-39A  28.573255 -80.646895      1\n",
              "47    KSC LC-39A  28.573255 -80.646895      1\n",
              "48    KSC LC-39A  28.573255 -80.646895      1\n",
              "49  CCAFS SLC-40  28.563197 -80.576820      1\n",
              "50  CCAFS SLC-40  28.563197 -80.576820      1\n",
              "51  CCAFS SLC-40  28.563197 -80.576820      0\n",
              "52  CCAFS SLC-40  28.563197 -80.576820      0\n",
              "53  CCAFS SLC-40  28.563197 -80.576820      0\n",
              "54  CCAFS SLC-40  28.563197 -80.576820      1\n",
              "55  CCAFS SLC-40  28.563197 -80.576820      0"
            ]
          },
          "execution_count": 12,
          "metadata": {},
          "output_type": "execute_result"
        }
      ],
      "source": [
        "spacex_df.tail(10)"
      ]
    },
    {
      "cell_type": "markdown",
      "metadata": {},
      "source": [
        "Next, let's create markers for all launch records.\n",
        "If a launch was successful `(class=1)`, then we use a green marker and if a launch was failed, we use a red marker `(class=0)`\n"
      ]
    },
    {
      "cell_type": "markdown",
      "metadata": {},
      "source": [
        "Note that a launch only happens in one of the four launch sites, which means many launch records will have the exact same coordinate. Marker clusters can be a good way to simplify a map containing many markers having the same coordinate.\n"
      ]
    },
    {
      "cell_type": "markdown",
      "metadata": {},
      "source": [
        "Let's first create a `MarkerCluster` object\n"
      ]
    },
    {
      "cell_type": "code",
      "execution_count": 13,
      "metadata": {
        "trusted": true
      },
      "outputs": [],
      "source": [
        "marker_cluster = MarkerCluster()\n"
      ]
    },
    {
      "cell_type": "markdown",
      "metadata": {},
      "source": [
        "*TODO:* Create a new column in `spacex_df` dataframe called `marker_color` to store the marker colors based on the `class` value\n"
      ]
    },
    {
      "cell_type": "code",
      "execution_count": 14,
      "metadata": {
        "trusted": true
      },
      "outputs": [
        {
          "data": {
            "text/html": [
              "<div>\n",
              "<style scoped>\n",
              "    .dataframe tbody tr th:only-of-type {\n",
              "        vertical-align: middle;\n",
              "    }\n",
              "\n",
              "    .dataframe tbody tr th {\n",
              "        vertical-align: top;\n",
              "    }\n",
              "\n",
              "    .dataframe thead th {\n",
              "        text-align: right;\n",
              "    }\n",
              "</style>\n",
              "<table border=\"1\" class=\"dataframe\">\n",
              "  <thead>\n",
              "    <tr style=\"text-align: right;\">\n",
              "      <th></th>\n",
              "      <th>Launch Site</th>\n",
              "      <th>Lat</th>\n",
              "      <th>Long</th>\n",
              "      <th>class</th>\n",
              "      <th>marker_color</th>\n",
              "    </tr>\n",
              "  </thead>\n",
              "  <tbody>\n",
              "    <tr>\n",
              "      <th>46</th>\n",
              "      <td>KSC LC-39A</td>\n",
              "      <td>28.573255</td>\n",
              "      <td>-80.646895</td>\n",
              "      <td>1</td>\n",
              "      <td>green</td>\n",
              "    </tr>\n",
              "    <tr>\n",
              "      <th>47</th>\n",
              "      <td>KSC LC-39A</td>\n",
              "      <td>28.573255</td>\n",
              "      <td>-80.646895</td>\n",
              "      <td>1</td>\n",
              "      <td>green</td>\n",
              "    </tr>\n",
              "    <tr>\n",
              "      <th>48</th>\n",
              "      <td>KSC LC-39A</td>\n",
              "      <td>28.573255</td>\n",
              "      <td>-80.646895</td>\n",
              "      <td>1</td>\n",
              "      <td>green</td>\n",
              "    </tr>\n",
              "    <tr>\n",
              "      <th>49</th>\n",
              "      <td>CCAFS SLC-40</td>\n",
              "      <td>28.563197</td>\n",
              "      <td>-80.576820</td>\n",
              "      <td>1</td>\n",
              "      <td>green</td>\n",
              "    </tr>\n",
              "    <tr>\n",
              "      <th>50</th>\n",
              "      <td>CCAFS SLC-40</td>\n",
              "      <td>28.563197</td>\n",
              "      <td>-80.576820</td>\n",
              "      <td>1</td>\n",
              "      <td>green</td>\n",
              "    </tr>\n",
              "    <tr>\n",
              "      <th>51</th>\n",
              "      <td>CCAFS SLC-40</td>\n",
              "      <td>28.563197</td>\n",
              "      <td>-80.576820</td>\n",
              "      <td>0</td>\n",
              "      <td>red</td>\n",
              "    </tr>\n",
              "    <tr>\n",
              "      <th>52</th>\n",
              "      <td>CCAFS SLC-40</td>\n",
              "      <td>28.563197</td>\n",
              "      <td>-80.576820</td>\n",
              "      <td>0</td>\n",
              "      <td>red</td>\n",
              "    </tr>\n",
              "    <tr>\n",
              "      <th>53</th>\n",
              "      <td>CCAFS SLC-40</td>\n",
              "      <td>28.563197</td>\n",
              "      <td>-80.576820</td>\n",
              "      <td>0</td>\n",
              "      <td>red</td>\n",
              "    </tr>\n",
              "    <tr>\n",
              "      <th>54</th>\n",
              "      <td>CCAFS SLC-40</td>\n",
              "      <td>28.563197</td>\n",
              "      <td>-80.576820</td>\n",
              "      <td>1</td>\n",
              "      <td>green</td>\n",
              "    </tr>\n",
              "    <tr>\n",
              "      <th>55</th>\n",
              "      <td>CCAFS SLC-40</td>\n",
              "      <td>28.563197</td>\n",
              "      <td>-80.576820</td>\n",
              "      <td>0</td>\n",
              "      <td>red</td>\n",
              "    </tr>\n",
              "  </tbody>\n",
              "</table>\n",
              "</div>"
            ],
            "text/plain": [
              "     Launch Site        Lat       Long  class marker_color\n",
              "46    KSC LC-39A  28.573255 -80.646895      1        green\n",
              "47    KSC LC-39A  28.573255 -80.646895      1        green\n",
              "48    KSC LC-39A  28.573255 -80.646895      1        green\n",
              "49  CCAFS SLC-40  28.563197 -80.576820      1        green\n",
              "50  CCAFS SLC-40  28.563197 -80.576820      1        green\n",
              "51  CCAFS SLC-40  28.563197 -80.576820      0          red\n",
              "52  CCAFS SLC-40  28.563197 -80.576820      0          red\n",
              "53  CCAFS SLC-40  28.563197 -80.576820      0          red\n",
              "54  CCAFS SLC-40  28.563197 -80.576820      1        green\n",
              "55  CCAFS SLC-40  28.563197 -80.576820      0          red"
            ]
          },
          "execution_count": 14,
          "metadata": {},
          "output_type": "execute_result"
        }
      ],
      "source": [
        "# Function to assign color to launch outcome\n",
        "def assign_marker_color(launch_outcome):\n",
        "    if launch_outcome == 1:\n",
        "        return 'green'\n",
        "    else:\n",
        "        return 'red'\n",
        "    \n",
        "spacex_df['marker_color'] = spacex_df['class'].apply(assign_marker_color)\n",
        "spacex_df.tail(10)"
      ]
    },
    {
      "cell_type": "markdown",
      "metadata": {},
      "source": [
        "*TODO:* For each launch result in `spacex_df` data frame, add a `folium.Marker` to `marker_cluster`\n"
      ]
    },
    {
      "cell_type": "code",
      "execution_count": 15,
      "metadata": {
        "trusted": true
      },
      "outputs": [
        {
          "data": {
            "text/html": [
              "<div style=\"width:100%;\"><div style=\"position:relative;width:100%;height:0;padding-bottom:60%;\"><span style=\"color:#565656\">Make this Notebook Trusted to load map: File -> Trust Notebook</span><iframe srcdoc=\"&lt;!DOCTYPE html&gt;\n",
              "&lt;html&gt;\n",
              "&lt;head&gt;\n",
              "    \n",
              "    &lt;meta http-equiv=&quot;content-type&quot; content=&quot;text/html; charset=UTF-8&quot; /&gt;\n",
              "    \n",
              "        &lt;script&gt;\n",
              "            L_NO_TOUCH = false;\n",
              "            L_DISABLE_3D = false;\n",
              "        &lt;/script&gt;\n",
              "    \n",
              "    &lt;style&gt;html, body {width: 100%;height: 100%;margin: 0;padding: 0;}&lt;/style&gt;\n",
              "    &lt;style&gt;#map {position:absolute;top:0;bottom:0;right:0;left:0;}&lt;/style&gt;\n",
              "    &lt;script src=&quot;https://cdn.jsdelivr.net/npm/leaflet@1.9.3/dist/leaflet.js&quot;&gt;&lt;/script&gt;\n",
              "    &lt;script src=&quot;https://code.jquery.com/jquery-3.7.1.min.js&quot;&gt;&lt;/script&gt;\n",
              "    &lt;script src=&quot;https://cdn.jsdelivr.net/npm/bootstrap@5.2.2/dist/js/bootstrap.bundle.min.js&quot;&gt;&lt;/script&gt;\n",
              "    &lt;script src=&quot;https://cdnjs.cloudflare.com/ajax/libs/Leaflet.awesome-markers/2.0.2/leaflet.awesome-markers.js&quot;&gt;&lt;/script&gt;\n",
              "    &lt;link rel=&quot;stylesheet&quot; href=&quot;https://cdn.jsdelivr.net/npm/leaflet@1.9.3/dist/leaflet.css&quot;/&gt;\n",
              "    &lt;link rel=&quot;stylesheet&quot; href=&quot;https://cdn.jsdelivr.net/npm/bootstrap@5.2.2/dist/css/bootstrap.min.css&quot;/&gt;\n",
              "    &lt;link rel=&quot;stylesheet&quot; href=&quot;https://netdna.bootstrapcdn.com/bootstrap/3.0.0/css/bootstrap-glyphicons.css&quot;/&gt;\n",
              "    &lt;link rel=&quot;stylesheet&quot; href=&quot;https://cdn.jsdelivr.net/npm/@fortawesome/fontawesome-free@6.2.0/css/all.min.css&quot;/&gt;\n",
              "    &lt;link rel=&quot;stylesheet&quot; href=&quot;https://cdnjs.cloudflare.com/ajax/libs/Leaflet.awesome-markers/2.0.2/leaflet.awesome-markers.css&quot;/&gt;\n",
              "    &lt;link rel=&quot;stylesheet&quot; href=&quot;https://cdn.jsdelivr.net/gh/python-visualization/folium/folium/templates/leaflet.awesome.rotate.min.css&quot;/&gt;\n",
              "    \n",
              "            &lt;meta name=&quot;viewport&quot; content=&quot;width=device-width,\n",
              "                initial-scale=1.0, maximum-scale=1.0, user-scalable=no&quot; /&gt;\n",
              "            &lt;style&gt;\n",
              "                #map_18a141b8e6dd37b85bda465a50c21ad4 {\n",
              "                    position: relative;\n",
              "                    width: 100.0%;\n",
              "                    height: 100.0%;\n",
              "                    left: 0.0%;\n",
              "                    top: 0.0%;\n",
              "                }\n",
              "                .leaflet-container { font-size: 1rem; }\n",
              "            &lt;/style&gt;\n",
              "        \n",
              "    &lt;script src=&quot;https://cdnjs.cloudflare.com/ajax/libs/leaflet.markercluster/1.1.0/leaflet.markercluster.js&quot;&gt;&lt;/script&gt;\n",
              "    &lt;link rel=&quot;stylesheet&quot; href=&quot;https://cdnjs.cloudflare.com/ajax/libs/leaflet.markercluster/1.1.0/MarkerCluster.css&quot;/&gt;\n",
              "    &lt;link rel=&quot;stylesheet&quot; href=&quot;https://cdnjs.cloudflare.com/ajax/libs/leaflet.markercluster/1.1.0/MarkerCluster.Default.css&quot;/&gt;\n",
              "&lt;/head&gt;\n",
              "&lt;body&gt;\n",
              "    \n",
              "    \n",
              "            &lt;div class=&quot;folium-map&quot; id=&quot;map_18a141b8e6dd37b85bda465a50c21ad4&quot; &gt;&lt;/div&gt;\n",
              "        \n",
              "&lt;/body&gt;\n",
              "&lt;script&gt;\n",
              "    \n",
              "    \n",
              "            var map_18a141b8e6dd37b85bda465a50c21ad4 = L.map(\n",
              "                &quot;map_18a141b8e6dd37b85bda465a50c21ad4&quot;,\n",
              "                {\n",
              "                    center: [29.559684888503615, -95.0830971930759],\n",
              "                    crs: L.CRS.EPSG3857,\n",
              "                    ...{\n",
              "  &quot;zoom&quot;: 5,\n",
              "  &quot;zoomControl&quot;: true,\n",
              "  &quot;preferCanvas&quot;: false,\n",
              "}\n",
              "\n",
              "                }\n",
              "            );\n",
              "\n",
              "            \n",
              "\n",
              "        \n",
              "    \n",
              "            var tile_layer_ece853369dc6fb13300d7d75aea82553 = L.tileLayer(\n",
              "                &quot;https://tile.openstreetmap.org/{z}/{x}/{y}.png&quot;,\n",
              "                {\n",
              "  &quot;minZoom&quot;: 0,\n",
              "  &quot;maxZoom&quot;: 19,\n",
              "  &quot;maxNativeZoom&quot;: 19,\n",
              "  &quot;noWrap&quot;: false,\n",
              "  &quot;attribution&quot;: &quot;\\u0026copy; \\u003ca href=\\&quot;https://www.openstreetmap.org/copyright\\&quot;\\u003eOpenStreetMap\\u003c/a\\u003e contributors&quot;,\n",
              "  &quot;subdomains&quot;: &quot;abc&quot;,\n",
              "  &quot;detectRetina&quot;: false,\n",
              "  &quot;tms&quot;: false,\n",
              "  &quot;opacity&quot;: 1,\n",
              "}\n",
              "\n",
              "            );\n",
              "        \n",
              "    \n",
              "            tile_layer_ece853369dc6fb13300d7d75aea82553.addTo(map_18a141b8e6dd37b85bda465a50c21ad4);\n",
              "        \n",
              "    \n",
              "            var marker_cluster_46e957cceefebe8c92e3fa78c17abc3f = L.markerClusterGroup(\n",
              "                {\n",
              "}\n",
              "            );\n",
              "        \n",
              "    \n",
              "            var marker_4d77b2e0002c323e1955602a0ade7608 = L.marker(\n",
              "                [29.559684888503615, -95.0830971930759],\n",
              "                {\n",
              "}\n",
              "            ).addTo(marker_cluster_46e957cceefebe8c92e3fa78c17abc3f);\n",
              "        \n",
              "    \n",
              "            var div_icon_735b1aae01f10b8cefbade2aade6f8ce = L.divIcon({\n",
              "  &quot;html&quot;: &quot;\\u003cdiv style=\\&quot;font-size: 12; color:#d35400;\\&quot;\\u003e\\u003cb\\u003eNASA JSC\\u003c/b\\u003e\\u003c/div\\u003e&quot;,\n",
              "  &quot;iconSize&quot;: [20, 20],\n",
              "  &quot;iconAnchor&quot;: [0, 0],\n",
              "  &quot;className&quot;: &quot;empty&quot;,\n",
              "});\n",
              "            marker_4d77b2e0002c323e1955602a0ade7608.setIcon(div_icon_735b1aae01f10b8cefbade2aade6f8ce);\n",
              "        \n",
              "    \n",
              "            marker_cluster_46e957cceefebe8c92e3fa78c17abc3f.addTo(map_18a141b8e6dd37b85bda465a50c21ad4);\n",
              "        \n",
              "&lt;/script&gt;\n",
              "&lt;/html&gt;\" style=\"position:absolute;width:100%;height:100%;left:0;top:0;border:none !important;\" allowfullscreen webkitallowfullscreen mozallowfullscreen></iframe></div></div>"
            ],
            "text/plain": [
              "<folium.folium.Map at 0x619e2c8>"
            ]
          },
          "execution_count": 15,
          "metadata": {},
          "output_type": "execute_result"
        }
      ],
      "source": [
        "# Add marker_cluster to current site_map\n",
        "site_map.add_child(marker_cluster)\n",
        "\n",
        "# for each row in spacex_df data frame\n",
        "# create a Marker object with its coordinate\n",
        "# and customize the Marker's icon property to indicate if this launch was successed or failed, \n",
        "# e.g., icon=folium.Icon(color='white', icon_color=row['marker_color']\n",
        "for index, record in spacex_df.iterrows():\n",
        "    # TODO: Create and add a Marker cluster to the site map\n",
        "    # marker = folium.Marker(...)\n",
        "    marker_cluster.add_child(marker)\n",
        "\n",
        "site_map"
      ]
    },
    {
      "cell_type": "markdown",
      "metadata": {},
      "source": [
        "Your updated map may look like the following screenshots:\n"
      ]
    },
    {
      "cell_type": "markdown",
      "metadata": {},
      "source": [
        "<center>\n",
        "    <img src=\"https://cf-courses-data.s3.us.cloud-object-storage.appdomain.cloud/IBM-DS0321EN-SkillsNetwork/labs/module_3/images/launch_site_marker_cluster.png\">\n",
        "</center>\n"
      ]
    },
    {
      "cell_type": "markdown",
      "metadata": {},
      "source": [
        "<center>\n",
        "    <img src=\"https://cf-courses-data.s3.us.cloud-object-storage.appdomain.cloud/IBM-DS0321EN-SkillsNetwork/labs/module_3/images/launch_site_marker_cluster_zoomed.png\">\n",
        "</center>\n"
      ]
    },
    {
      "cell_type": "markdown",
      "metadata": {},
      "source": [
        "From the color-labeled markers in marker clusters, you should be able to easily identify which launch sites have relatively high success rates.\n"
      ]
    },
    {
      "cell_type": "code",
      "execution_count": 16,
      "metadata": {
        "trusted": true
      },
      "outputs": [],
      "source": [
        "# TASK 3: Calculate the distances between a launch site to its proximities\n"
      ]
    },
    {
      "cell_type": "markdown",
      "metadata": {},
      "source": [
        "Next, we need to explore and analyze the proximities of launch sites.\n"
      ]
    },
    {
      "cell_type": "markdown",
      "metadata": {},
      "source": [
        "Let's first add a `MousePosition` on the map to get coordinate for a mouse over a point on the map. As such, while you are exploring the map, you can easily find the coordinates of any points of interests (such as railway)\n"
      ]
    },
    {
      "cell_type": "code",
      "execution_count": 17,
      "metadata": {
        "scrolled": true,
        "trusted": true
      },
      "outputs": [
        {
          "data": {
            "text/html": [
              "<div style=\"width:100%;\"><div style=\"position:relative;width:100%;height:0;padding-bottom:60%;\"><span style=\"color:#565656\">Make this Notebook Trusted to load map: File -> Trust Notebook</span><iframe srcdoc=\"&lt;!DOCTYPE html&gt;\n",
              "&lt;html&gt;\n",
              "&lt;head&gt;\n",
              "    \n",
              "    &lt;meta http-equiv=&quot;content-type&quot; content=&quot;text/html; charset=UTF-8&quot; /&gt;\n",
              "    \n",
              "        &lt;script&gt;\n",
              "            L_NO_TOUCH = false;\n",
              "            L_DISABLE_3D = false;\n",
              "        &lt;/script&gt;\n",
              "    \n",
              "    &lt;style&gt;html, body {width: 100%;height: 100%;margin: 0;padding: 0;}&lt;/style&gt;\n",
              "    &lt;style&gt;#map {position:absolute;top:0;bottom:0;right:0;left:0;}&lt;/style&gt;\n",
              "    &lt;script src=&quot;https://cdn.jsdelivr.net/npm/leaflet@1.9.3/dist/leaflet.js&quot;&gt;&lt;/script&gt;\n",
              "    &lt;script src=&quot;https://code.jquery.com/jquery-3.7.1.min.js&quot;&gt;&lt;/script&gt;\n",
              "    &lt;script src=&quot;https://cdn.jsdelivr.net/npm/bootstrap@5.2.2/dist/js/bootstrap.bundle.min.js&quot;&gt;&lt;/script&gt;\n",
              "    &lt;script src=&quot;https://cdnjs.cloudflare.com/ajax/libs/Leaflet.awesome-markers/2.0.2/leaflet.awesome-markers.js&quot;&gt;&lt;/script&gt;\n",
              "    &lt;link rel=&quot;stylesheet&quot; href=&quot;https://cdn.jsdelivr.net/npm/leaflet@1.9.3/dist/leaflet.css&quot;/&gt;\n",
              "    &lt;link rel=&quot;stylesheet&quot; href=&quot;https://cdn.jsdelivr.net/npm/bootstrap@5.2.2/dist/css/bootstrap.min.css&quot;/&gt;\n",
              "    &lt;link rel=&quot;stylesheet&quot; href=&quot;https://netdna.bootstrapcdn.com/bootstrap/3.0.0/css/bootstrap-glyphicons.css&quot;/&gt;\n",
              "    &lt;link rel=&quot;stylesheet&quot; href=&quot;https://cdn.jsdelivr.net/npm/@fortawesome/fontawesome-free@6.2.0/css/all.min.css&quot;/&gt;\n",
              "    &lt;link rel=&quot;stylesheet&quot; href=&quot;https://cdnjs.cloudflare.com/ajax/libs/Leaflet.awesome-markers/2.0.2/leaflet.awesome-markers.css&quot;/&gt;\n",
              "    &lt;link rel=&quot;stylesheet&quot; href=&quot;https://cdn.jsdelivr.net/gh/python-visualization/folium/folium/templates/leaflet.awesome.rotate.min.css&quot;/&gt;\n",
              "    \n",
              "            &lt;meta name=&quot;viewport&quot; content=&quot;width=device-width,\n",
              "                initial-scale=1.0, maximum-scale=1.0, user-scalable=no&quot; /&gt;\n",
              "            &lt;style&gt;\n",
              "                #map_18a141b8e6dd37b85bda465a50c21ad4 {\n",
              "                    position: relative;\n",
              "                    width: 100.0%;\n",
              "                    height: 100.0%;\n",
              "                    left: 0.0%;\n",
              "                    top: 0.0%;\n",
              "                }\n",
              "                .leaflet-container { font-size: 1rem; }\n",
              "            &lt;/style&gt;\n",
              "        \n",
              "    &lt;script src=&quot;https://cdnjs.cloudflare.com/ajax/libs/leaflet.markercluster/1.1.0/leaflet.markercluster.js&quot;&gt;&lt;/script&gt;\n",
              "    &lt;link rel=&quot;stylesheet&quot; href=&quot;https://cdnjs.cloudflare.com/ajax/libs/leaflet.markercluster/1.1.0/MarkerCluster.css&quot;/&gt;\n",
              "    &lt;link rel=&quot;stylesheet&quot; href=&quot;https://cdnjs.cloudflare.com/ajax/libs/leaflet.markercluster/1.1.0/MarkerCluster.Default.css&quot;/&gt;\n",
              "    &lt;script src=&quot;https://cdn.jsdelivr.net/gh/ardhi/Leaflet.MousePosition/src/L.Control.MousePosition.min.js&quot;&gt;&lt;/script&gt;\n",
              "    &lt;link rel=&quot;stylesheet&quot; href=&quot;https://cdn.jsdelivr.net/gh/ardhi/Leaflet.MousePosition/src/L.Control.MousePosition.min.css&quot;/&gt;\n",
              "&lt;/head&gt;\n",
              "&lt;body&gt;\n",
              "    \n",
              "    \n",
              "            &lt;div class=&quot;folium-map&quot; id=&quot;map_18a141b8e6dd37b85bda465a50c21ad4&quot; &gt;&lt;/div&gt;\n",
              "        \n",
              "&lt;/body&gt;\n",
              "&lt;script&gt;\n",
              "    \n",
              "    \n",
              "            var map_18a141b8e6dd37b85bda465a50c21ad4 = L.map(\n",
              "                &quot;map_18a141b8e6dd37b85bda465a50c21ad4&quot;,\n",
              "                {\n",
              "                    center: [29.559684888503615, -95.0830971930759],\n",
              "                    crs: L.CRS.EPSG3857,\n",
              "                    ...{\n",
              "  &quot;zoom&quot;: 5,\n",
              "  &quot;zoomControl&quot;: true,\n",
              "  &quot;preferCanvas&quot;: false,\n",
              "}\n",
              "\n",
              "                }\n",
              "            );\n",
              "\n",
              "            \n",
              "\n",
              "        \n",
              "    \n",
              "            var tile_layer_ece853369dc6fb13300d7d75aea82553 = L.tileLayer(\n",
              "                &quot;https://tile.openstreetmap.org/{z}/{x}/{y}.png&quot;,\n",
              "                {\n",
              "  &quot;minZoom&quot;: 0,\n",
              "  &quot;maxZoom&quot;: 19,\n",
              "  &quot;maxNativeZoom&quot;: 19,\n",
              "  &quot;noWrap&quot;: false,\n",
              "  &quot;attribution&quot;: &quot;\\u0026copy; \\u003ca href=\\&quot;https://www.openstreetmap.org/copyright\\&quot;\\u003eOpenStreetMap\\u003c/a\\u003e contributors&quot;,\n",
              "  &quot;subdomains&quot;: &quot;abc&quot;,\n",
              "  &quot;detectRetina&quot;: false,\n",
              "  &quot;tms&quot;: false,\n",
              "  &quot;opacity&quot;: 1,\n",
              "}\n",
              "\n",
              "            );\n",
              "        \n",
              "    \n",
              "            tile_layer_ece853369dc6fb13300d7d75aea82553.addTo(map_18a141b8e6dd37b85bda465a50c21ad4);\n",
              "        \n",
              "    \n",
              "            var marker_cluster_46e957cceefebe8c92e3fa78c17abc3f = L.markerClusterGroup(\n",
              "                {\n",
              "}\n",
              "            );\n",
              "        \n",
              "    \n",
              "            var marker_4d77b2e0002c323e1955602a0ade7608 = L.marker(\n",
              "                [29.559684888503615, -95.0830971930759],\n",
              "                {\n",
              "}\n",
              "            ).addTo(marker_cluster_46e957cceefebe8c92e3fa78c17abc3f);\n",
              "        \n",
              "    \n",
              "            var div_icon_735b1aae01f10b8cefbade2aade6f8ce = L.divIcon({\n",
              "  &quot;html&quot;: &quot;\\u003cdiv style=\\&quot;font-size: 12; color:#d35400;\\&quot;\\u003e\\u003cb\\u003eNASA JSC\\u003c/b\\u003e\\u003c/div\\u003e&quot;,\n",
              "  &quot;iconSize&quot;: [20, 20],\n",
              "  &quot;iconAnchor&quot;: [0, 0],\n",
              "  &quot;className&quot;: &quot;empty&quot;,\n",
              "});\n",
              "            marker_4d77b2e0002c323e1955602a0ade7608.setIcon(div_icon_735b1aae01f10b8cefbade2aade6f8ce);\n",
              "        \n",
              "    \n",
              "            marker_cluster_46e957cceefebe8c92e3fa78c17abc3f.addTo(map_18a141b8e6dd37b85bda465a50c21ad4);\n",
              "        \n",
              "    \n",
              "            tile_layer_ece853369dc6fb13300d7d75aea82553.addTo(map_18a141b8e6dd37b85bda465a50c21ad4);\n",
              "        \n",
              "    \n",
              "            marker_cluster_46e957cceefebe8c92e3fa78c17abc3f.addTo(map_18a141b8e6dd37b85bda465a50c21ad4);\n",
              "        \n",
              "    \n",
              "            var mouse_position_05ec19e783f6ad8b5500443e161c9129 = new L.Control.MousePosition(\n",
              "                {\n",
              "  &quot;position&quot;: &quot;topright&quot;,\n",
              "  &quot;separator&quot;: &quot; Long: &quot;,\n",
              "  &quot;emptyString&quot;: &quot;NaN&quot;,\n",
              "  &quot;lngFirst&quot;: false,\n",
              "  &quot;numDigits&quot;: 20,\n",
              "  &quot;prefix&quot;: &quot;Lat:&quot;,\n",
              "}\n",
              "            );\n",
              "            mouse_position_05ec19e783f6ad8b5500443e161c9129.options[&quot;latFormatter&quot;] =\n",
              "                function(num) {return L.Util.formatNum(num, 5);};;\n",
              "            mouse_position_05ec19e783f6ad8b5500443e161c9129.options[&quot;lngFormatter&quot;] =\n",
              "                function(num) {return L.Util.formatNum(num, 5);};;\n",
              "            map_18a141b8e6dd37b85bda465a50c21ad4.addControl(mouse_position_05ec19e783f6ad8b5500443e161c9129);\n",
              "        \n",
              "&lt;/script&gt;\n",
              "&lt;/html&gt;\" style=\"position:absolute;width:100%;height:100%;left:0;top:0;border:none !important;\" allowfullscreen webkitallowfullscreen mozallowfullscreen></iframe></div></div>"
            ],
            "text/plain": [
              "<folium.folium.Map at 0x619e2c8>"
            ]
          },
          "execution_count": 17,
          "metadata": {},
          "output_type": "execute_result"
        }
      ],
      "source": [
        "# Add Mouse Position to get the coordinate (Lat, Long) for a mouse over on the map\n",
        "formatter = \"function(num) {return L.Util.formatNum(num, 5);};\"\n",
        "mouse_position = MousePosition(\n",
        "    position='topright',\n",
        "    separator=' Long: ',\n",
        "    empty_string='NaN',\n",
        "    lng_first=False,\n",
        "    num_digits=20,\n",
        "    prefix='Lat:',\n",
        "    lat_formatter=formatter,\n",
        "    lng_formatter=formatter,\n",
        ")\n",
        "\n",
        "site_map.add_child(mouse_position)\n",
        "site_map"
      ]
    },
    {
      "cell_type": "markdown",
      "metadata": {},
      "source": [
        "Now zoom in to a launch site and explore its proximity to see if you can easily find any railway, highway, coastline, etc. Move your mouse to these points and mark down their coordinates (shown on the top-left) in order to the distance to the launch site.\n"
      ]
    },
    {
      "cell_type": "markdown",
      "metadata": {},
      "source": [
        "Now zoom in to a launch site and explore its proximity to see if you can easily find any railway, highway, coastline, etc. Move your mouse to these points and mark down their coordinates (shown on the top-left) in order to the distance to the launch site.\n"
      ]
    },
    {
      "cell_type": "code",
      "execution_count": 18,
      "metadata": {
        "trusted": true
      },
      "outputs": [],
      "source": [
        "from math import sin, cos, sqrt, atan2, radians\n",
        "\n",
        "def calculate_distance(lat1, lon1, lat2, lon2):\n",
        "    # approximate radius of earth in km\n",
        "    R = 6373.0\n",
        "\n",
        "    lat1 = radians(lat1)\n",
        "    lon1 = radians(lon1)\n",
        "    lat2 = radians(lat2)\n",
        "    lon2 = radians(lon2)\n",
        "\n",
        "    dlon = lon2 - lon1\n",
        "    dlat = lat2 - lat1\n",
        "\n",
        "    a = sin(dlat / 2)**2 + cos(lat1) * cos(lat2) * sin(dlon / 2)**2\n",
        "    c = 2 * atan2(sqrt(a), sqrt(1 - a))\n",
        "\n",
        "    distance = R * c\n",
        "    return distance"
      ]
    },
    {
      "cell_type": "markdown",
      "metadata": {},
      "source": [
        "*TODO:* Mark down a point on the closest coastline using MousePosition and calculate the distance between the coastline point and the launch site.\n"
      ]
    },
    {
      "cell_type": "code",
      "execution_count": 19,
      "metadata": {
        "trusted": true
      },
      "outputs": [],
      "source": [
        "# find coordinate of the closet coastline\n",
        "# e.g.,: Lat: 28.56367  Lon: -80.57163\n",
        "# distance_coastline = calculate_distance(launch_site_lat, launch_site_lon, coastline_lat, coastline_lon)\n",
        "\n",
        "\n",
        "coordinates = [\n",
        "    [28.56342, -80.57674],\n",
        "    [28.56342, -80.56756]]\n",
        "\n",
        "lines=folium.PolyLine(locations=coordinates, weight=1)\n",
        "site_map.add_child(lines)\n",
        "distance = calculate_distance(coordinates[0][0], coordinates[0][1], coordinates[1][0], coordinates[1][1])"
      ]
    },
    {
      "cell_type": "code",
      "execution_count": 20,
      "metadata": {
        "trusted": true
      },
      "outputs": [],
      "source": [
        "# Create and add a folium.Marker on your selected closest coastline point on the map\n",
        "# Display the distance between coastline point and launch site using the icon property \n",
        "# for example\n",
        "# distance_marker = folium.Marker(\n",
        "#    coordinate,\n",
        "#    icon=DivIcon(\n",
        "#        icon_size=(20,20),\n",
        "#        icon_anchor=(0,0),\n",
        "#        html='<div style=\"font-size: 12; color:#d35400;\"><b>%s</b></div>' % \"{:10.2f} KM\".format(distance),\n",
        "#        )\n",
        "#    )\n",
        "\n",
        "\n",
        "distance_marker = folium.Marker(\n",
        "    [28.56367,-80.57163],\n",
        "    icon=DivIcon(\n",
        "            icon_size=(20,20),\n",
        "            icon_anchor=(0,0),\n",
        "            html='%s' % \"{:10.2f} KM\".format(distance),\n",
        "            )\n",
        "        )"
      ]
    },
    {
      "cell_type": "markdown",
      "metadata": {},
      "source": [
        "*TODO:* Draw a `PolyLine` between a launch site to the selected coastline point\n"
      ]
    },
    {
      "cell_type": "code",
      "execution_count": 21,
      "metadata": {
        "trusted": true
      },
      "outputs": [
        {
          "data": {
            "text/html": [
              "<div style=\"width:100%;\"><div style=\"position:relative;width:100%;height:0;padding-bottom:60%;\"><span style=\"color:#565656\">Make this Notebook Trusted to load map: File -> Trust Notebook</span><iframe srcdoc=\"&lt;!DOCTYPE html&gt;\n",
              "&lt;html&gt;\n",
              "&lt;head&gt;\n",
              "    \n",
              "    &lt;meta http-equiv=&quot;content-type&quot; content=&quot;text/html; charset=UTF-8&quot; /&gt;\n",
              "    \n",
              "        &lt;script&gt;\n",
              "            L_NO_TOUCH = false;\n",
              "            L_DISABLE_3D = false;\n",
              "        &lt;/script&gt;\n",
              "    \n",
              "    &lt;style&gt;html, body {width: 100%;height: 100%;margin: 0;padding: 0;}&lt;/style&gt;\n",
              "    &lt;style&gt;#map {position:absolute;top:0;bottom:0;right:0;left:0;}&lt;/style&gt;\n",
              "    &lt;script src=&quot;https://cdn.jsdelivr.net/npm/leaflet@1.9.3/dist/leaflet.js&quot;&gt;&lt;/script&gt;\n",
              "    &lt;script src=&quot;https://code.jquery.com/jquery-3.7.1.min.js&quot;&gt;&lt;/script&gt;\n",
              "    &lt;script src=&quot;https://cdn.jsdelivr.net/npm/bootstrap@5.2.2/dist/js/bootstrap.bundle.min.js&quot;&gt;&lt;/script&gt;\n",
              "    &lt;script src=&quot;https://cdnjs.cloudflare.com/ajax/libs/Leaflet.awesome-markers/2.0.2/leaflet.awesome-markers.js&quot;&gt;&lt;/script&gt;\n",
              "    &lt;link rel=&quot;stylesheet&quot; href=&quot;https://cdn.jsdelivr.net/npm/leaflet@1.9.3/dist/leaflet.css&quot;/&gt;\n",
              "    &lt;link rel=&quot;stylesheet&quot; href=&quot;https://cdn.jsdelivr.net/npm/bootstrap@5.2.2/dist/css/bootstrap.min.css&quot;/&gt;\n",
              "    &lt;link rel=&quot;stylesheet&quot; href=&quot;https://netdna.bootstrapcdn.com/bootstrap/3.0.0/css/bootstrap-glyphicons.css&quot;/&gt;\n",
              "    &lt;link rel=&quot;stylesheet&quot; href=&quot;https://cdn.jsdelivr.net/npm/@fortawesome/fontawesome-free@6.2.0/css/all.min.css&quot;/&gt;\n",
              "    &lt;link rel=&quot;stylesheet&quot; href=&quot;https://cdnjs.cloudflare.com/ajax/libs/Leaflet.awesome-markers/2.0.2/leaflet.awesome-markers.css&quot;/&gt;\n",
              "    &lt;link rel=&quot;stylesheet&quot; href=&quot;https://cdn.jsdelivr.net/gh/python-visualization/folium/folium/templates/leaflet.awesome.rotate.min.css&quot;/&gt;\n",
              "    \n",
              "            &lt;meta name=&quot;viewport&quot; content=&quot;width=device-width,\n",
              "                initial-scale=1.0, maximum-scale=1.0, user-scalable=no&quot; /&gt;\n",
              "            &lt;style&gt;\n",
              "                #map_18a141b8e6dd37b85bda465a50c21ad4 {\n",
              "                    position: relative;\n",
              "                    width: 100.0%;\n",
              "                    height: 100.0%;\n",
              "                    left: 0.0%;\n",
              "                    top: 0.0%;\n",
              "                }\n",
              "                .leaflet-container { font-size: 1rem; }\n",
              "            &lt;/style&gt;\n",
              "        \n",
              "    &lt;script src=&quot;https://cdnjs.cloudflare.com/ajax/libs/leaflet.markercluster/1.1.0/leaflet.markercluster.js&quot;&gt;&lt;/script&gt;\n",
              "    &lt;link rel=&quot;stylesheet&quot; href=&quot;https://cdnjs.cloudflare.com/ajax/libs/leaflet.markercluster/1.1.0/MarkerCluster.css&quot;/&gt;\n",
              "    &lt;link rel=&quot;stylesheet&quot; href=&quot;https://cdnjs.cloudflare.com/ajax/libs/leaflet.markercluster/1.1.0/MarkerCluster.Default.css&quot;/&gt;\n",
              "    &lt;script src=&quot;https://cdn.jsdelivr.net/gh/ardhi/Leaflet.MousePosition/src/L.Control.MousePosition.min.js&quot;&gt;&lt;/script&gt;\n",
              "    &lt;link rel=&quot;stylesheet&quot; href=&quot;https://cdn.jsdelivr.net/gh/ardhi/Leaflet.MousePosition/src/L.Control.MousePosition.min.css&quot;/&gt;\n",
              "&lt;/head&gt;\n",
              "&lt;body&gt;\n",
              "    \n",
              "    \n",
              "            &lt;div class=&quot;folium-map&quot; id=&quot;map_18a141b8e6dd37b85bda465a50c21ad4&quot; &gt;&lt;/div&gt;\n",
              "        \n",
              "&lt;/body&gt;\n",
              "&lt;script&gt;\n",
              "    \n",
              "    \n",
              "            var map_18a141b8e6dd37b85bda465a50c21ad4 = L.map(\n",
              "                &quot;map_18a141b8e6dd37b85bda465a50c21ad4&quot;,\n",
              "                {\n",
              "                    center: [29.559684888503615, -95.0830971930759],\n",
              "                    crs: L.CRS.EPSG3857,\n",
              "                    ...{\n",
              "  &quot;zoom&quot;: 5,\n",
              "  &quot;zoomControl&quot;: true,\n",
              "  &quot;preferCanvas&quot;: false,\n",
              "}\n",
              "\n",
              "                }\n",
              "            );\n",
              "\n",
              "            \n",
              "\n",
              "        \n",
              "    \n",
              "            var tile_layer_ece853369dc6fb13300d7d75aea82553 = L.tileLayer(\n",
              "                &quot;https://tile.openstreetmap.org/{z}/{x}/{y}.png&quot;,\n",
              "                {\n",
              "  &quot;minZoom&quot;: 0,\n",
              "  &quot;maxZoom&quot;: 19,\n",
              "  &quot;maxNativeZoom&quot;: 19,\n",
              "  &quot;noWrap&quot;: false,\n",
              "  &quot;attribution&quot;: &quot;\\u0026copy; \\u003ca href=\\&quot;https://www.openstreetmap.org/copyright\\&quot;\\u003eOpenStreetMap\\u003c/a\\u003e contributors&quot;,\n",
              "  &quot;subdomains&quot;: &quot;abc&quot;,\n",
              "  &quot;detectRetina&quot;: false,\n",
              "  &quot;tms&quot;: false,\n",
              "  &quot;opacity&quot;: 1,\n",
              "}\n",
              "\n",
              "            );\n",
              "        \n",
              "    \n",
              "            tile_layer_ece853369dc6fb13300d7d75aea82553.addTo(map_18a141b8e6dd37b85bda465a50c21ad4);\n",
              "        \n",
              "    \n",
              "            var marker_cluster_46e957cceefebe8c92e3fa78c17abc3f = L.markerClusterGroup(\n",
              "                {\n",
              "}\n",
              "            );\n",
              "        \n",
              "    \n",
              "            var marker_4d77b2e0002c323e1955602a0ade7608 = L.marker(\n",
              "                [29.559684888503615, -95.0830971930759],\n",
              "                {\n",
              "}\n",
              "            ).addTo(marker_cluster_46e957cceefebe8c92e3fa78c17abc3f);\n",
              "        \n",
              "    \n",
              "            var div_icon_735b1aae01f10b8cefbade2aade6f8ce = L.divIcon({\n",
              "  &quot;html&quot;: &quot;\\u003cdiv style=\\&quot;font-size: 12; color:#d35400;\\&quot;\\u003e\\u003cb\\u003eNASA JSC\\u003c/b\\u003e\\u003c/div\\u003e&quot;,\n",
              "  &quot;iconSize&quot;: [20, 20],\n",
              "  &quot;iconAnchor&quot;: [0, 0],\n",
              "  &quot;className&quot;: &quot;empty&quot;,\n",
              "});\n",
              "            marker_4d77b2e0002c323e1955602a0ade7608.setIcon(div_icon_735b1aae01f10b8cefbade2aade6f8ce);\n",
              "        \n",
              "    \n",
              "            marker_cluster_46e957cceefebe8c92e3fa78c17abc3f.addTo(map_18a141b8e6dd37b85bda465a50c21ad4);\n",
              "        \n",
              "    \n",
              "            tile_layer_ece853369dc6fb13300d7d75aea82553.addTo(map_18a141b8e6dd37b85bda465a50c21ad4);\n",
              "        \n",
              "    \n",
              "            marker_cluster_46e957cceefebe8c92e3fa78c17abc3f.addTo(map_18a141b8e6dd37b85bda465a50c21ad4);\n",
              "        \n",
              "    \n",
              "            var mouse_position_05ec19e783f6ad8b5500443e161c9129 = new L.Control.MousePosition(\n",
              "                {\n",
              "  &quot;position&quot;: &quot;topright&quot;,\n",
              "  &quot;separator&quot;: &quot; Long: &quot;,\n",
              "  &quot;emptyString&quot;: &quot;NaN&quot;,\n",
              "  &quot;lngFirst&quot;: false,\n",
              "  &quot;numDigits&quot;: 20,\n",
              "  &quot;prefix&quot;: &quot;Lat:&quot;,\n",
              "}\n",
              "            );\n",
              "            mouse_position_05ec19e783f6ad8b5500443e161c9129.options[&quot;latFormatter&quot;] =\n",
              "                function(num) {return L.Util.formatNum(num, 5);};;\n",
              "            mouse_position_05ec19e783f6ad8b5500443e161c9129.options[&quot;lngFormatter&quot;] =\n",
              "                function(num) {return L.Util.formatNum(num, 5);};;\n",
              "            map_18a141b8e6dd37b85bda465a50c21ad4.addControl(mouse_position_05ec19e783f6ad8b5500443e161c9129);\n",
              "        \n",
              "    \n",
              "            tile_layer_ece853369dc6fb13300d7d75aea82553.addTo(map_18a141b8e6dd37b85bda465a50c21ad4);\n",
              "        \n",
              "    \n",
              "            marker_cluster_46e957cceefebe8c92e3fa78c17abc3f.addTo(map_18a141b8e6dd37b85bda465a50c21ad4);\n",
              "        \n",
              "    \n",
              "            var poly_line_b9d0637d39af1ba7b2126ff3bb71c8b2 = L.polyline(\n",
              "                [[28.56342, -80.57674], [28.56342, -80.56756]],\n",
              "                {&quot;bubblingMouseEvents&quot;: true, &quot;color&quot;: &quot;#3388ff&quot;, &quot;dashArray&quot;: null, &quot;dashOffset&quot;: null, &quot;fill&quot;: false, &quot;fillColor&quot;: &quot;#3388ff&quot;, &quot;fillOpacity&quot;: 0.2, &quot;fillRule&quot;: &quot;evenodd&quot;, &quot;lineCap&quot;: &quot;round&quot;, &quot;lineJoin&quot;: &quot;round&quot;, &quot;noClip&quot;: false, &quot;opacity&quot;: 1.0, &quot;smoothFactor&quot;: 1.0, &quot;stroke&quot;: true, &quot;weight&quot;: 1}\n",
              "            ).addTo(map_18a141b8e6dd37b85bda465a50c21ad4);\n",
              "        \n",
              "&lt;/script&gt;\n",
              "&lt;/html&gt;\" style=\"position:absolute;width:100%;height:100%;left:0;top:0;border:none !important;\" allowfullscreen webkitallowfullscreen mozallowfullscreen></iframe></div></div>"
            ],
            "text/plain": [
              "<folium.folium.Map at 0x619e2c8>"
            ]
          },
          "execution_count": 21,
          "metadata": {},
          "output_type": "execute_result"
        }
      ],
      "source": [
        "# Create a `folium.PolyLine` object using the coastline coordinates and launch site coordinate\n",
        "# lines=folium.PolyLine(locations=coordinates, weight=1)\n",
        "site_map.add_child(lines)"
      ]
    },
    {
      "cell_type": "markdown",
      "metadata": {},
      "source": [
        "Your updated map with distance line should look like the following screenshot:\n"
      ]
    },
    {
      "cell_type": "markdown",
      "metadata": {},
      "source": [
        "<center>\n",
        "    <img src=\"https://cf-courses-data.s3.us.cloud-object-storage.appdomain.cloud/IBM-DS0321EN-SkillsNetwork/labs/module_3/images/launch_site_marker_distance.png\">\n",
        "</center>\n"
      ]
    },
    {
      "cell_type": "markdown",
      "metadata": {},
      "source": [
        "*TODO:* Similarly, you can draw a line betwee a launch site to its closest city, railway, highway, etc. You need to use `MousePosition` to find the their coordinates on the map first\n"
      ]
    },
    {
      "cell_type": "markdown",
      "metadata": {},
      "source": [
        "A railway map symbol may look like this:\n"
      ]
    },
    {
      "cell_type": "markdown",
      "metadata": {},
      "source": [
        "<center>\n",
        "    <img src=\"https://cf-courses-data.s3.us.cloud-object-storage.appdomain.cloud/IBM-DS0321EN-SkillsNetwork/labs/module_3/images/railway.png\">\n",
        "</center>\n"
      ]
    },
    {
      "cell_type": "markdown",
      "metadata": {},
      "source": [
        "A highway map symbol may look like this:\n"
      ]
    },
    {
      "cell_type": "markdown",
      "metadata": {},
      "source": [
        "<center>\n",
        "    <img src=\"https://cf-courses-data.s3.us.cloud-object-storage.appdomain.cloud/IBM-DS0321EN-SkillsNetwork/labs/module_3/images/highway.png\">\n",
        "</center>\n"
      ]
    },
    {
      "cell_type": "markdown",
      "metadata": {},
      "source": [
        "A city map symbol may look like this:\n"
      ]
    },
    {
      "cell_type": "markdown",
      "metadata": {},
      "source": [
        "<center>\n",
        "    <img src=\"https://cf-courses-data.s3.us.cloud-object-storage.appdomain.cloud/IBM-DS0321EN-SkillsNetwork/labs/module_3/images/city.png\">\n",
        "</center>\n"
      ]
    },
    {
      "cell_type": "code",
      "execution_count": 22,
      "metadata": {
        "trusted": true
      },
      "outputs": [],
      "source": [
        "# Create a marker with distance to a closest city, railway, highway, etc.\n",
        "# Draw a line between the marker to the launch site\n"
      ]
    },
    {
      "cell_type": "code",
      "execution_count": 23,
      "metadata": {
        "trusted": true
      },
      "outputs": [
        {
          "data": {
            "text/html": [
              "<div style=\"width:100%;\"><div style=\"position:relative;width:100%;height:0;padding-bottom:60%;\"><span style=\"color:#565656\">Make this Notebook Trusted to load map: File -> Trust Notebook</span><iframe srcdoc=\"&lt;!DOCTYPE html&gt;\n",
              "&lt;html&gt;\n",
              "&lt;head&gt;\n",
              "    \n",
              "    &lt;meta http-equiv=&quot;content-type&quot; content=&quot;text/html; charset=UTF-8&quot; /&gt;\n",
              "    \n",
              "        &lt;script&gt;\n",
              "            L_NO_TOUCH = false;\n",
              "            L_DISABLE_3D = false;\n",
              "        &lt;/script&gt;\n",
              "    \n",
              "    &lt;style&gt;html, body {width: 100%;height: 100%;margin: 0;padding: 0;}&lt;/style&gt;\n",
              "    &lt;style&gt;#map {position:absolute;top:0;bottom:0;right:0;left:0;}&lt;/style&gt;\n",
              "    &lt;script src=&quot;https://cdn.jsdelivr.net/npm/leaflet@1.9.3/dist/leaflet.js&quot;&gt;&lt;/script&gt;\n",
              "    &lt;script src=&quot;https://code.jquery.com/jquery-3.7.1.min.js&quot;&gt;&lt;/script&gt;\n",
              "    &lt;script src=&quot;https://cdn.jsdelivr.net/npm/bootstrap@5.2.2/dist/js/bootstrap.bundle.min.js&quot;&gt;&lt;/script&gt;\n",
              "    &lt;script src=&quot;https://cdnjs.cloudflare.com/ajax/libs/Leaflet.awesome-markers/2.0.2/leaflet.awesome-markers.js&quot;&gt;&lt;/script&gt;\n",
              "    &lt;link rel=&quot;stylesheet&quot; href=&quot;https://cdn.jsdelivr.net/npm/leaflet@1.9.3/dist/leaflet.css&quot;/&gt;\n",
              "    &lt;link rel=&quot;stylesheet&quot; href=&quot;https://cdn.jsdelivr.net/npm/bootstrap@5.2.2/dist/css/bootstrap.min.css&quot;/&gt;\n",
              "    &lt;link rel=&quot;stylesheet&quot; href=&quot;https://netdna.bootstrapcdn.com/bootstrap/3.0.0/css/bootstrap-glyphicons.css&quot;/&gt;\n",
              "    &lt;link rel=&quot;stylesheet&quot; href=&quot;https://cdn.jsdelivr.net/npm/@fortawesome/fontawesome-free@6.2.0/css/all.min.css&quot;/&gt;\n",
              "    &lt;link rel=&quot;stylesheet&quot; href=&quot;https://cdnjs.cloudflare.com/ajax/libs/Leaflet.awesome-markers/2.0.2/leaflet.awesome-markers.css&quot;/&gt;\n",
              "    &lt;link rel=&quot;stylesheet&quot; href=&quot;https://cdn.jsdelivr.net/gh/python-visualization/folium/folium/templates/leaflet.awesome.rotate.min.css&quot;/&gt;\n",
              "    \n",
              "            &lt;meta name=&quot;viewport&quot; content=&quot;width=device-width,\n",
              "                initial-scale=1.0, maximum-scale=1.0, user-scalable=no&quot; /&gt;\n",
              "            &lt;style&gt;\n",
              "                #map_18a141b8e6dd37b85bda465a50c21ad4 {\n",
              "                    position: relative;\n",
              "                    width: 100.0%;\n",
              "                    height: 100.0%;\n",
              "                    left: 0.0%;\n",
              "                    top: 0.0%;\n",
              "                }\n",
              "                .leaflet-container { font-size: 1rem; }\n",
              "            &lt;/style&gt;\n",
              "        \n",
              "    &lt;script src=&quot;https://cdnjs.cloudflare.com/ajax/libs/leaflet.markercluster/1.1.0/leaflet.markercluster.js&quot;&gt;&lt;/script&gt;\n",
              "    &lt;link rel=&quot;stylesheet&quot; href=&quot;https://cdnjs.cloudflare.com/ajax/libs/leaflet.markercluster/1.1.0/MarkerCluster.css&quot;/&gt;\n",
              "    &lt;link rel=&quot;stylesheet&quot; href=&quot;https://cdnjs.cloudflare.com/ajax/libs/leaflet.markercluster/1.1.0/MarkerCluster.Default.css&quot;/&gt;\n",
              "    &lt;script src=&quot;https://cdn.jsdelivr.net/gh/ardhi/Leaflet.MousePosition/src/L.Control.MousePosition.min.js&quot;&gt;&lt;/script&gt;\n",
              "    &lt;link rel=&quot;stylesheet&quot; href=&quot;https://cdn.jsdelivr.net/gh/ardhi/Leaflet.MousePosition/src/L.Control.MousePosition.min.css&quot;/&gt;\n",
              "&lt;/head&gt;\n",
              "&lt;body&gt;\n",
              "    \n",
              "    \n",
              "            &lt;div class=&quot;folium-map&quot; id=&quot;map_18a141b8e6dd37b85bda465a50c21ad4&quot; &gt;&lt;/div&gt;\n",
              "        \n",
              "&lt;/body&gt;\n",
              "&lt;script&gt;\n",
              "    \n",
              "    \n",
              "            var map_18a141b8e6dd37b85bda465a50c21ad4 = L.map(\n",
              "                &quot;map_18a141b8e6dd37b85bda465a50c21ad4&quot;,\n",
              "                {\n",
              "                    center: [29.559684888503615, -95.0830971930759],\n",
              "                    crs: L.CRS.EPSG3857,\n",
              "                    ...{\n",
              "  &quot;zoom&quot;: 5,\n",
              "  &quot;zoomControl&quot;: true,\n",
              "  &quot;preferCanvas&quot;: false,\n",
              "}\n",
              "\n",
              "                }\n",
              "            );\n",
              "\n",
              "            \n",
              "\n",
              "        \n",
              "    \n",
              "            var tile_layer_ece853369dc6fb13300d7d75aea82553 = L.tileLayer(\n",
              "                &quot;https://tile.openstreetmap.org/{z}/{x}/{y}.png&quot;,\n",
              "                {\n",
              "  &quot;minZoom&quot;: 0,\n",
              "  &quot;maxZoom&quot;: 19,\n",
              "  &quot;maxNativeZoom&quot;: 19,\n",
              "  &quot;noWrap&quot;: false,\n",
              "  &quot;attribution&quot;: &quot;\\u0026copy; \\u003ca href=\\&quot;https://www.openstreetmap.org/copyright\\&quot;\\u003eOpenStreetMap\\u003c/a\\u003e contributors&quot;,\n",
              "  &quot;subdomains&quot;: &quot;abc&quot;,\n",
              "  &quot;detectRetina&quot;: false,\n",
              "  &quot;tms&quot;: false,\n",
              "  &quot;opacity&quot;: 1,\n",
              "}\n",
              "\n",
              "            );\n",
              "        \n",
              "    \n",
              "            tile_layer_ece853369dc6fb13300d7d75aea82553.addTo(map_18a141b8e6dd37b85bda465a50c21ad4);\n",
              "        \n",
              "    \n",
              "            var marker_cluster_46e957cceefebe8c92e3fa78c17abc3f = L.markerClusterGroup(\n",
              "                {\n",
              "}\n",
              "            );\n",
              "        \n",
              "    \n",
              "            var marker_4d77b2e0002c323e1955602a0ade7608 = L.marker(\n",
              "                [29.559684888503615, -95.0830971930759],\n",
              "                {\n",
              "}\n",
              "            ).addTo(marker_cluster_46e957cceefebe8c92e3fa78c17abc3f);\n",
              "        \n",
              "    \n",
              "            var div_icon_735b1aae01f10b8cefbade2aade6f8ce = L.divIcon({\n",
              "  &quot;html&quot;: &quot;\\u003cdiv style=\\&quot;font-size: 12; color:#d35400;\\&quot;\\u003e\\u003cb\\u003eNASA JSC\\u003c/b\\u003e\\u003c/div\\u003e&quot;,\n",
              "  &quot;iconSize&quot;: [20, 20],\n",
              "  &quot;iconAnchor&quot;: [0, 0],\n",
              "  &quot;className&quot;: &quot;empty&quot;,\n",
              "});\n",
              "            marker_4d77b2e0002c323e1955602a0ade7608.setIcon(div_icon_735b1aae01f10b8cefbade2aade6f8ce);\n",
              "        \n",
              "    \n",
              "            marker_cluster_46e957cceefebe8c92e3fa78c17abc3f.addTo(map_18a141b8e6dd37b85bda465a50c21ad4);\n",
              "        \n",
              "    \n",
              "            tile_layer_ece853369dc6fb13300d7d75aea82553.addTo(map_18a141b8e6dd37b85bda465a50c21ad4);\n",
              "        \n",
              "    \n",
              "            marker_cluster_46e957cceefebe8c92e3fa78c17abc3f.addTo(map_18a141b8e6dd37b85bda465a50c21ad4);\n",
              "        \n",
              "    \n",
              "            var mouse_position_05ec19e783f6ad8b5500443e161c9129 = new L.Control.MousePosition(\n",
              "                {\n",
              "  &quot;position&quot;: &quot;topright&quot;,\n",
              "  &quot;separator&quot;: &quot; Long: &quot;,\n",
              "  &quot;emptyString&quot;: &quot;NaN&quot;,\n",
              "  &quot;lngFirst&quot;: false,\n",
              "  &quot;numDigits&quot;: 20,\n",
              "  &quot;prefix&quot;: &quot;Lat:&quot;,\n",
              "}\n",
              "            );\n",
              "            mouse_position_05ec19e783f6ad8b5500443e161c9129.options[&quot;latFormatter&quot;] =\n",
              "                function(num) {return L.Util.formatNum(num, 5);};;\n",
              "            mouse_position_05ec19e783f6ad8b5500443e161c9129.options[&quot;lngFormatter&quot;] =\n",
              "                function(num) {return L.Util.formatNum(num, 5);};;\n",
              "            map_18a141b8e6dd37b85bda465a50c21ad4.addControl(mouse_position_05ec19e783f6ad8b5500443e161c9129);\n",
              "        \n",
              "    \n",
              "            tile_layer_ece853369dc6fb13300d7d75aea82553.addTo(map_18a141b8e6dd37b85bda465a50c21ad4);\n",
              "        \n",
              "    \n",
              "            marker_cluster_46e957cceefebe8c92e3fa78c17abc3f.addTo(map_18a141b8e6dd37b85bda465a50c21ad4);\n",
              "        \n",
              "    \n",
              "            var poly_line_b9d0637d39af1ba7b2126ff3bb71c8b2 = L.polyline(\n",
              "                [[28.56342, -80.57674], [28.56342, -80.56756]],\n",
              "                {&quot;bubblingMouseEvents&quot;: true, &quot;color&quot;: &quot;#3388ff&quot;, &quot;dashArray&quot;: null, &quot;dashOffset&quot;: null, &quot;fill&quot;: false, &quot;fillColor&quot;: &quot;#3388ff&quot;, &quot;fillOpacity&quot;: 0.2, &quot;fillRule&quot;: &quot;evenodd&quot;, &quot;lineCap&quot;: &quot;round&quot;, &quot;lineJoin&quot;: &quot;round&quot;, &quot;noClip&quot;: false, &quot;opacity&quot;: 1.0, &quot;smoothFactor&quot;: 1.0, &quot;stroke&quot;: true, &quot;weight&quot;: 1}\n",
              "            ).addTo(map_18a141b8e6dd37b85bda465a50c21ad4);\n",
              "        \n",
              "    \n",
              "            tile_layer_ece853369dc6fb13300d7d75aea82553.addTo(map_18a141b8e6dd37b85bda465a50c21ad4);\n",
              "        \n",
              "    \n",
              "            marker_cluster_46e957cceefebe8c92e3fa78c17abc3f.addTo(map_18a141b8e6dd37b85bda465a50c21ad4);\n",
              "        \n",
              "    \n",
              "            var poly_line_0076ad9c795d339d516c1a88cbd4d06f = L.polyline(\n",
              "                [[28.56342, -80.57674], [28.41178, -80.82063]],\n",
              "                {&quot;bubblingMouseEvents&quot;: true, &quot;color&quot;: &quot;#3388ff&quot;, &quot;dashArray&quot;: null, &quot;dashOffset&quot;: null, &quot;fill&quot;: false, &quot;fillColor&quot;: &quot;#3388ff&quot;, &quot;fillOpacity&quot;: 0.2, &quot;fillRule&quot;: &quot;evenodd&quot;, &quot;lineCap&quot;: &quot;round&quot;, &quot;lineJoin&quot;: &quot;round&quot;, &quot;noClip&quot;: false, &quot;opacity&quot;: 1.0, &quot;smoothFactor&quot;: 1.0, &quot;stroke&quot;: true, &quot;weight&quot;: 1}\n",
              "            ).addTo(map_18a141b8e6dd37b85bda465a50c21ad4);\n",
              "        \n",
              "    \n",
              "            var marker_8daf1e150e329ddc89c586e8a6b3ff3f = L.marker(\n",
              "                [28.41178, -80.82063],\n",
              "                {\n",
              "}\n",
              "            ).addTo(map_18a141b8e6dd37b85bda465a50c21ad4);\n",
              "        \n",
              "    \n",
              "            var div_icon_8c8b613156c878218517ccc7f08934fd = L.divIcon({\n",
              "  &quot;html&quot;: &quot;     29.21 KM&quot;,\n",
              "  &quot;iconSize&quot;: [20, 20],\n",
              "  &quot;iconAnchor&quot;: [0, 0],\n",
              "  &quot;className&quot;: &quot;empty&quot;,\n",
              "});\n",
              "            marker_8daf1e150e329ddc89c586e8a6b3ff3f.setIcon(div_icon_8c8b613156c878218517ccc7f08934fd);\n",
              "        \n",
              "&lt;/script&gt;\n",
              "&lt;/html&gt;\" style=\"position:absolute;width:100%;height:100%;left:0;top:0;border:none !important;\" allowfullscreen webkitallowfullscreen mozallowfullscreen></iframe></div></div>"
            ],
            "text/plain": [
              "<folium.folium.Map at 0x619e2c8>"
            ]
          },
          "execution_count": 23,
          "metadata": {},
          "output_type": "execute_result"
        }
      ],
      "source": [
        "coordinates = [\n",
        "    [28.56342, -80.57674],\n",
        "    [28.411780, -80.820630]]\n",
        "\n",
        "lines=folium.PolyLine(locations=coordinates, weight=1)\n",
        "site_map.add_child(lines)\n",
        "distance = calculate_distance(coordinates[0][0], coordinates[0][1], coordinates[1][0], coordinates[1][1])\n",
        "distance_circle = folium.Marker(\n",
        "    [28.411780, -80.820630],\n",
        "    icon=DivIcon(\n",
        "        icon_size=(20,20),\n",
        "        icon_anchor=(0,0),\n",
        "        html='%s' % \"{:10.2f} KM\".format(distance),\n",
        "        )\n",
        "    )\n",
        "site_map.add_child(distance_circle)\n",
        "site_map"
      ]
    },
    {
      "cell_type": "code",
      "execution_count": null,
      "metadata": {
        "trusted": true
      },
      "outputs": [],
      "source": []
    },
    {
      "cell_type": "markdown",
      "metadata": {},
      "source": [
        "After you plot distance lines to the proximities, you can answer the following questions easily:\n",
        "\n",
        "*   Are launch sites in close proximity to railways?\n",
        "*   Are launch sites in close proximity to highways?\n",
        "*   Are launch sites in close proximity to coastline?\n",
        "*   Do launch sites keep certain distance away from cities?\n",
        "\n",
        "Also please try to explain your findings.\n"
      ]
    },
    {
      "cell_type": "markdown",
      "metadata": {},
      "source": [
        "# Next Steps:\n",
        "\n",
        "Now you have discovered many interesting insights related to the launch sites' location using folium, in a very interactive way. Next, you will need to build a dashboard using Ploty Dash on detailed launch records.\n"
      ]
    },
    {
      "cell_type": "markdown",
      "metadata": {},
      "source": [
        "## Authors\n"
      ]
    },
    {
      "cell_type": "markdown",
      "metadata": {},
      "source": [
        "[Pratiksha Verma](https://www.linkedin.com/in/pratiksha-verma-6487561b1/)\n"
      ]
    },
    {
      "cell_type": "markdown",
      "metadata": {},
      "source": [
        "<!--## Change Log--!>\n"
      ]
    },
    {
      "cell_type": "markdown",
      "metadata": {},
      "source": [
        "<!--| Date (YYYY-MM-DD) | Version | Changed By      | Change Description      |\n",
        "| ----------------- | ------- | -------------   | ----------------------- |\n",
        "| 2022-11-09        | 1.0     | Pratiksha Verma | Converted initial version to Jupyterlite|--!>\n"
      ]
    },
    {
      "cell_type": "markdown",
      "metadata": {},
      "source": [
        "### <h3 align=\"center\"> IBM Corporation 2022. All rights reserved. <h3/>\n"
      ]
    }
  ],
  "metadata": {
    "kernelspec": {
      "display_name": "Python (Pyodide)",
      "language": "python",
      "name": "python"
    },
    "language_info": {
      "codemirror_mode": {
        "name": "python",
        "version": 3
      },
      "file_extension": ".py",
      "mimetype": "text/x-python",
      "name": "python",
      "nbconvert_exporter": "python",
      "pygments_lexer": "ipython3",
      "version": "3.8"
    },
    "prev_pub_hash": "0f9db842b41c859223722809f8be602f5df9334348bd206b11e3af58c30eb345"
  },
  "nbformat": 4,
  "nbformat_minor": 4
}
